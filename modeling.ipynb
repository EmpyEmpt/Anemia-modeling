{
 "cells": [
  {
   "cell_type": "markdown",
   "metadata": {},
   "source": [
    "Окие доки, время попробовать что-то смоделировать\n",
    "# Моделирование"
   ]
  },
  {
   "cell_type": "code",
   "execution_count": 236,
   "metadata": {},
   "outputs": [],
   "source": [
    "import pandas as pd\n",
    "import numpy as np\n",
    "import sklearn\n",
    "from sklearn.model_selection import train_test_split\n",
    "from sklearn.metrics import confusion_matrix, classification_report\n",
    "\n",
    "import matplotlib.pyplot as plt\n",
    "import seaborn as sns\n",
    "\n",
    "# machine learning\n",
    "from sklearn.linear_model import LogisticRegression\n",
    "from sklearn.svm import SVC, LinearSVC\n",
    "from sklearn.ensemble import RandomForestClassifier\n",
    "from sklearn.neighbors import KNeighborsClassifier\n",
    "from sklearn.naive_bayes import GaussianNB\n",
    "from sklearn.linear_model import Perceptron\n",
    "from sklearn.linear_model import SGDClassifier\n",
    "from sklearn.tree import DecisionTreeClassifier\n",
    "\n",
    "from IPython.display import clear_output"
   ]
  },
  {
   "cell_type": "code",
   "execution_count": 10,
   "metadata": {},
   "outputs": [],
   "source": [
    "pd.set_option('display.max_columns', 500)\n",
    "plt.style.use('fivethirtyeight')\n",
    "color_pal = plt.rcParams['axes.prop_cycle'].by_key()['color']\n",
    "random_state = 0"
   ]
  },
  {
   "cell_type": "code",
   "execution_count": 49,
   "metadata": {},
   "outputs": [
    {
     "data": {
      "text/html": [
       "<div>\n",
       "<style scoped>\n",
       "    .dataframe tbody tr th:only-of-type {\n",
       "        vertical-align: middle;\n",
       "    }\n",
       "\n",
       "    .dataframe tbody tr th {\n",
       "        vertical-align: top;\n",
       "    }\n",
       "\n",
       "    .dataframe thead th {\n",
       "        text-align: right;\n",
       "    }\n",
       "</style>\n",
       "<table border=\"1\" class=\"dataframe\">\n",
       "  <thead>\n",
       "    <tr style=\"text-align: right;\">\n",
       "      <th></th>\n",
       "      <th>A1</th>\n",
       "      <th>A2</th>\n",
       "      <th>A3</th>\n",
       "      <th>A5</th>\n",
       "      <th>A9</th>\n",
       "      <th>A10</th>\n",
       "      <th>A11</th>\n",
       "      <th>A19</th>\n",
       "      <th>A20</th>\n",
       "      <th>A21</th>\n",
       "      <th>A23</th>\n",
       "      <th>A24</th>\n",
       "      <th>A25</th>\n",
       "      <th>A26</th>\n",
       "      <th>A28</th>\n",
       "      <th>A29</th>\n",
       "      <th>A30</th>\n",
       "      <th>A31</th>\n",
       "      <th>A32</th>\n",
       "      <th>A33</th>\n",
       "      <th>A36</th>\n",
       "      <th>B5</th>\n",
       "      <th>B7</th>\n",
       "      <th>B8</th>\n",
       "      <th>B12</th>\n",
       "      <th>B13</th>\n",
       "      <th>B14</th>\n",
       "      <th>B15</th>\n",
       "      <th>B16</th>\n",
       "      <th>B17</th>\n",
       "      <th>B18</th>\n",
       "      <th>B21</th>\n",
       "      <th>B22</th>\n",
       "      <th>B27</th>\n",
       "      <th>B34</th>\n",
       "      <th>B35</th>\n",
       "      <th>B37</th>\n",
       "      <th>B38</th>\n",
       "      <th>B39</th>\n",
       "      <th>B40</th>\n",
       "      <th>B41</th>\n",
       "      <th>B43</th>\n",
       "      <th>B44</th>\n",
       "      <th>B45</th>\n",
       "      <th>B47</th>\n",
       "      <th>B48</th>\n",
       "      <th>B49</th>\n",
       "      <th>B50</th>\n",
       "      <th>B51</th>\n",
       "      <th>B52</th>\n",
       "      <th>B55</th>\n",
       "      <th>B56</th>\n",
       "      <th>B57</th>\n",
       "      <th>B60</th>\n",
       "      <th>B61</th>\n",
       "      <th>B62</th>\n",
       "      <th>B70</th>\n",
       "      <th>B81</th>\n",
       "      <th>анемия</th>\n",
       "    </tr>\n",
       "  </thead>\n",
       "  <tbody>\n",
       "    <tr>\n",
       "      <th>0</th>\n",
       "      <td>1</td>\n",
       "      <td>1</td>\n",
       "      <td>0</td>\n",
       "      <td>0</td>\n",
       "      <td>0</td>\n",
       "      <td>0</td>\n",
       "      <td>0</td>\n",
       "      <td>0</td>\n",
       "      <td>0</td>\n",
       "      <td>0</td>\n",
       "      <td>0</td>\n",
       "      <td>0</td>\n",
       "      <td>0</td>\n",
       "      <td>0</td>\n",
       "      <td>0</td>\n",
       "      <td>0</td>\n",
       "      <td>0</td>\n",
       "      <td>0</td>\n",
       "      <td>0</td>\n",
       "      <td>0</td>\n",
       "      <td>0</td>\n",
       "      <td>0</td>\n",
       "      <td>0</td>\n",
       "      <td>0</td>\n",
       "      <td>0</td>\n",
       "      <td>0</td>\n",
       "      <td>0</td>\n",
       "      <td>0</td>\n",
       "      <td>0</td>\n",
       "      <td>0</td>\n",
       "      <td>0</td>\n",
       "      <td>0</td>\n",
       "      <td>0</td>\n",
       "      <td>0</td>\n",
       "      <td>0</td>\n",
       "      <td>1</td>\n",
       "      <td>0</td>\n",
       "      <td>1</td>\n",
       "      <td>1</td>\n",
       "      <td>0</td>\n",
       "      <td>0</td>\n",
       "      <td>0</td>\n",
       "      <td>0</td>\n",
       "      <td>0</td>\n",
       "      <td>0</td>\n",
       "      <td>0</td>\n",
       "      <td>0</td>\n",
       "      <td>0</td>\n",
       "      <td>0</td>\n",
       "      <td>0</td>\n",
       "      <td>0</td>\n",
       "      <td>0</td>\n",
       "      <td>0</td>\n",
       "      <td>0</td>\n",
       "      <td>0</td>\n",
       "      <td>0</td>\n",
       "      <td>0</td>\n",
       "      <td>0</td>\n",
       "      <td>0</td>\n",
       "    </tr>\n",
       "    <tr>\n",
       "      <th>1</th>\n",
       "      <td>0</td>\n",
       "      <td>0</td>\n",
       "      <td>1</td>\n",
       "      <td>0</td>\n",
       "      <td>0</td>\n",
       "      <td>0</td>\n",
       "      <td>0</td>\n",
       "      <td>0</td>\n",
       "      <td>0</td>\n",
       "      <td>0</td>\n",
       "      <td>0</td>\n",
       "      <td>1</td>\n",
       "      <td>0</td>\n",
       "      <td>0</td>\n",
       "      <td>0</td>\n",
       "      <td>0</td>\n",
       "      <td>0</td>\n",
       "      <td>0</td>\n",
       "      <td>0</td>\n",
       "      <td>0</td>\n",
       "      <td>0</td>\n",
       "      <td>0</td>\n",
       "      <td>1</td>\n",
       "      <td>0</td>\n",
       "      <td>0</td>\n",
       "      <td>0</td>\n",
       "      <td>0</td>\n",
       "      <td>0</td>\n",
       "      <td>0</td>\n",
       "      <td>0</td>\n",
       "      <td>0</td>\n",
       "      <td>0</td>\n",
       "      <td>0</td>\n",
       "      <td>0</td>\n",
       "      <td>0</td>\n",
       "      <td>0</td>\n",
       "      <td>0</td>\n",
       "      <td>0</td>\n",
       "      <td>0</td>\n",
       "      <td>0</td>\n",
       "      <td>0</td>\n",
       "      <td>0</td>\n",
       "      <td>0</td>\n",
       "      <td>0</td>\n",
       "      <td>0</td>\n",
       "      <td>0</td>\n",
       "      <td>0</td>\n",
       "      <td>0</td>\n",
       "      <td>1</td>\n",
       "      <td>1</td>\n",
       "      <td>0</td>\n",
       "      <td>0</td>\n",
       "      <td>0</td>\n",
       "      <td>0</td>\n",
       "      <td>0</td>\n",
       "      <td>0</td>\n",
       "      <td>0</td>\n",
       "      <td>0</td>\n",
       "      <td>0</td>\n",
       "    </tr>\n",
       "    <tr>\n",
       "      <th>2</th>\n",
       "      <td>0</td>\n",
       "      <td>0</td>\n",
       "      <td>0</td>\n",
       "      <td>0</td>\n",
       "      <td>0</td>\n",
       "      <td>0</td>\n",
       "      <td>1</td>\n",
       "      <td>0</td>\n",
       "      <td>0</td>\n",
       "      <td>0</td>\n",
       "      <td>0</td>\n",
       "      <td>0</td>\n",
       "      <td>0</td>\n",
       "      <td>0</td>\n",
       "      <td>0</td>\n",
       "      <td>0</td>\n",
       "      <td>0</td>\n",
       "      <td>0</td>\n",
       "      <td>0</td>\n",
       "      <td>0</td>\n",
       "      <td>0</td>\n",
       "      <td>0</td>\n",
       "      <td>0</td>\n",
       "      <td>0</td>\n",
       "      <td>0</td>\n",
       "      <td>0</td>\n",
       "      <td>1</td>\n",
       "      <td>0</td>\n",
       "      <td>0</td>\n",
       "      <td>0</td>\n",
       "      <td>0</td>\n",
       "      <td>0</td>\n",
       "      <td>0</td>\n",
       "      <td>0</td>\n",
       "      <td>0</td>\n",
       "      <td>1</td>\n",
       "      <td>0</td>\n",
       "      <td>0</td>\n",
       "      <td>0</td>\n",
       "      <td>0</td>\n",
       "      <td>0</td>\n",
       "      <td>0</td>\n",
       "      <td>0</td>\n",
       "      <td>0</td>\n",
       "      <td>0</td>\n",
       "      <td>0</td>\n",
       "      <td>0</td>\n",
       "      <td>0</td>\n",
       "      <td>0</td>\n",
       "      <td>0</td>\n",
       "      <td>0</td>\n",
       "      <td>0</td>\n",
       "      <td>0</td>\n",
       "      <td>0</td>\n",
       "      <td>0</td>\n",
       "      <td>0</td>\n",
       "      <td>0</td>\n",
       "      <td>0</td>\n",
       "      <td>0</td>\n",
       "    </tr>\n",
       "    <tr>\n",
       "      <th>3</th>\n",
       "      <td>0</td>\n",
       "      <td>0</td>\n",
       "      <td>0</td>\n",
       "      <td>0</td>\n",
       "      <td>1</td>\n",
       "      <td>0</td>\n",
       "      <td>1</td>\n",
       "      <td>0</td>\n",
       "      <td>0</td>\n",
       "      <td>0</td>\n",
       "      <td>0</td>\n",
       "      <td>0</td>\n",
       "      <td>0</td>\n",
       "      <td>0</td>\n",
       "      <td>0</td>\n",
       "      <td>0</td>\n",
       "      <td>0</td>\n",
       "      <td>0</td>\n",
       "      <td>0</td>\n",
       "      <td>0</td>\n",
       "      <td>0</td>\n",
       "      <td>0</td>\n",
       "      <td>0</td>\n",
       "      <td>0</td>\n",
       "      <td>0</td>\n",
       "      <td>0</td>\n",
       "      <td>0</td>\n",
       "      <td>0</td>\n",
       "      <td>1</td>\n",
       "      <td>0</td>\n",
       "      <td>0</td>\n",
       "      <td>0</td>\n",
       "      <td>0</td>\n",
       "      <td>0</td>\n",
       "      <td>0</td>\n",
       "      <td>1</td>\n",
       "      <td>0</td>\n",
       "      <td>0</td>\n",
       "      <td>0</td>\n",
       "      <td>0</td>\n",
       "      <td>0</td>\n",
       "      <td>0</td>\n",
       "      <td>0</td>\n",
       "      <td>0</td>\n",
       "      <td>0</td>\n",
       "      <td>0</td>\n",
       "      <td>0</td>\n",
       "      <td>0</td>\n",
       "      <td>0</td>\n",
       "      <td>0</td>\n",
       "      <td>0</td>\n",
       "      <td>0</td>\n",
       "      <td>0</td>\n",
       "      <td>0</td>\n",
       "      <td>0</td>\n",
       "      <td>0</td>\n",
       "      <td>0</td>\n",
       "      <td>0</td>\n",
       "      <td>0</td>\n",
       "    </tr>\n",
       "    <tr>\n",
       "      <th>4</th>\n",
       "      <td>0</td>\n",
       "      <td>1</td>\n",
       "      <td>0</td>\n",
       "      <td>0</td>\n",
       "      <td>0</td>\n",
       "      <td>0</td>\n",
       "      <td>0</td>\n",
       "      <td>0</td>\n",
       "      <td>0</td>\n",
       "      <td>0</td>\n",
       "      <td>0</td>\n",
       "      <td>0</td>\n",
       "      <td>0</td>\n",
       "      <td>0</td>\n",
       "      <td>0</td>\n",
       "      <td>0</td>\n",
       "      <td>0</td>\n",
       "      <td>0</td>\n",
       "      <td>0</td>\n",
       "      <td>0</td>\n",
       "      <td>0</td>\n",
       "      <td>0</td>\n",
       "      <td>0</td>\n",
       "      <td>0</td>\n",
       "      <td>0</td>\n",
       "      <td>0</td>\n",
       "      <td>0</td>\n",
       "      <td>0</td>\n",
       "      <td>0</td>\n",
       "      <td>0</td>\n",
       "      <td>0</td>\n",
       "      <td>0</td>\n",
       "      <td>0</td>\n",
       "      <td>0</td>\n",
       "      <td>0</td>\n",
       "      <td>0</td>\n",
       "      <td>0</td>\n",
       "      <td>0</td>\n",
       "      <td>0</td>\n",
       "      <td>1</td>\n",
       "      <td>0</td>\n",
       "      <td>0</td>\n",
       "      <td>0</td>\n",
       "      <td>0</td>\n",
       "      <td>0</td>\n",
       "      <td>0</td>\n",
       "      <td>0</td>\n",
       "      <td>0</td>\n",
       "      <td>0</td>\n",
       "      <td>0</td>\n",
       "      <td>0</td>\n",
       "      <td>0</td>\n",
       "      <td>0</td>\n",
       "      <td>0</td>\n",
       "      <td>0</td>\n",
       "      <td>0</td>\n",
       "      <td>0</td>\n",
       "      <td>0</td>\n",
       "      <td>0</td>\n",
       "    </tr>\n",
       "  </tbody>\n",
       "</table>\n",
       "</div>"
      ],
      "text/plain": [
       "   A1  A2  A3  A5  A9  A10  A11  A19  A20  A21  A23  A24  A25  A26  A28  A29  \\\n",
       "0   1   1   0   0   0    0    0    0    0    0    0    0    0    0    0    0   \n",
       "1   0   0   1   0   0    0    0    0    0    0    0    1    0    0    0    0   \n",
       "2   0   0   0   0   0    0    1    0    0    0    0    0    0    0    0    0   \n",
       "3   0   0   0   0   1    0    1    0    0    0    0    0    0    0    0    0   \n",
       "4   0   1   0   0   0    0    0    0    0    0    0    0    0    0    0    0   \n",
       "\n",
       "   A30  A31  A32  A33  A36  B5  B7  B8  B12  B13  B14  B15  B16  B17  B18  \\\n",
       "0    0    0    0    0    0   0   0   0    0    0    0    0    0    0    0   \n",
       "1    0    0    0    0    0   0   1   0    0    0    0    0    0    0    0   \n",
       "2    0    0    0    0    0   0   0   0    0    0    1    0    0    0    0   \n",
       "3    0    0    0    0    0   0   0   0    0    0    0    0    1    0    0   \n",
       "4    0    0    0    0    0   0   0   0    0    0    0    0    0    0    0   \n",
       "\n",
       "   B21  B22  B27  B34  B35  B37  B38  B39  B40  B41  B43  B44  B45  B47  B48  \\\n",
       "0    0    0    0    0    1    0    1    1    0    0    0    0    0    0    0   \n",
       "1    0    0    0    0    0    0    0    0    0    0    0    0    0    0    0   \n",
       "2    0    0    0    0    1    0    0    0    0    0    0    0    0    0    0   \n",
       "3    0    0    0    0    1    0    0    0    0    0    0    0    0    0    0   \n",
       "4    0    0    0    0    0    0    0    0    1    0    0    0    0    0    0   \n",
       "\n",
       "   B49  B50  B51  B52  B55  B56  B57  B60  B61  B62  B70  B81  анемия  \n",
       "0    0    0    0    0    0    0    0    0    0    0    0    0       0  \n",
       "1    0    0    1    1    0    0    0    0    0    0    0    0       0  \n",
       "2    0    0    0    0    0    0    0    0    0    0    0    0       0  \n",
       "3    0    0    0    0    0    0    0    0    0    0    0    0       0  \n",
       "4    0    0    0    0    0    0    0    0    0    0    0    0       0  "
      ]
     },
     "execution_count": 49,
     "metadata": {},
     "output_type": "execute_result"
    }
   ],
   "source": [
    "df = pd.read_csv('data/clean.csv')\n",
    "df.head()"
   ]
  },
  {
   "cell_type": "code",
   "execution_count": 98,
   "metadata": {},
   "outputs": [],
   "source": [
    "# Разбиение на валидационную и тренировочную выборки со стратификацией по искомому полю\n",
    "# Для показания результатов это надо:\n",
    "#   В валидационной и тренировочной выборке одинаковое соотношение \n",
    "#   классов \"с анемией\" и \"без анемии\"\n",
    "# Для финальной модели это плохо:\n",
    "#   Модель могла \"не увидеть\" некоторые примеры \"с анемией\"\n",
    "#   про примеры \"без анемии\" я молчу, их очень много\n",
    "df_train, df_test = train_test_split(df, test_size=0.20, stratify=df['анемия'], shuffle=True, random_state=random_state)"
   ]
  },
  {
   "cell_type": "code",
   "execution_count": 99,
   "metadata": {},
   "outputs": [],
   "source": [
    "y_train = df_train.pop('анемия')\n",
    "x_train = df_train.copy()\n",
    "\n",
    "y_test = df_test.pop('анемия')\n",
    "x_test = df_test.copy()\n",
    "\n",
    "tt = df.copy()\n",
    "y = tt.pop('анемия')\n",
    "x = tt.copy()"
   ]
  },
  {
   "cell_type": "code",
   "execution_count": 101,
   "metadata": {},
   "outputs": [],
   "source": [
    "def test_model(clf, name: str) -> list[float]:\n",
    "    clf.fit(x_train, y_train)\n",
    "    Y_pred = clf.predict(x_test)\n",
    "    clf.score(x_train, y_train)\n",
    "    train_set = round(clf.score(x_train, y_train) * 100, 2)\n",
    "    test_set = round(sum(Y_pred == y_test) / len(y_test) * 100, 2)\n",
    "    whole_set = round(clf.score(x, y) * 100, 2)\n",
    "\n",
    "    clear_output()\n",
    "    print('=========================================================')\n",
    "    print(f'Tested {name} classifier')\n",
    "    print(f'Success rate on train subset = {train_set}%')\n",
    "    print(f'Success rate on test subset = {test_set}%')\n",
    "    print(f'Success rate on whole dataset = {whole_set}%')\n",
    "    print('=========================================================')\n",
    "    return train_set, test_set, whole_set"
   ]
  },
  {
   "cell_type": "markdown",
   "metadata": {},
   "source": [
    "Ура, сами модели  \n",
    "После отдельных блоков есть общая табличка, можете игнорировать и бежать сразу туда"
   ]
  },
  {
   "cell_type": "markdown",
   "metadata": {},
   "source": [
    "## 1. Random Forest"
   ]
  },
  {
   "cell_type": "code",
   "execution_count": 104,
   "metadata": {},
   "outputs": [
    {
     "name": "stdout",
     "output_type": "stream",
     "text": [
      "=========================================================\n",
      "Tested Random Forest classifier\n",
      "Success rate on train subset = 98.85%\n",
      "Success rate on test subset = 79.31%\n",
      "Success rate on whole dataset = 94.94%\n",
      "=========================================================\n"
     ]
    }
   ],
   "source": [
    "rfc = RandomForestClassifier(n_estimators=1000, \n",
    "                             random_state=0)\n",
    "random_forest_res = test_model(rfc, 'Random Forest')"
   ]
  },
  {
   "cell_type": "markdown",
   "metadata": {},
   "source": [
    "## 2. Logistic Regression"
   ]
  },
  {
   "cell_type": "code",
   "execution_count": 105,
   "metadata": {},
   "outputs": [
    {
     "name": "stdout",
     "output_type": "stream",
     "text": [
      "=========================================================\n",
      "Tested Logistic Regression classifier\n",
      "Success rate on train subset = 83.91%\n",
      "Success rate on test subset = 83.91%\n",
      "Success rate on whole dataset = 83.91%\n",
      "=========================================================\n"
     ]
    }
   ],
   "source": [
    "logreg = LogisticRegression()\n",
    "logreg_res = test_model(logreg, 'Logistic Regression')"
   ]
  },
  {
   "cell_type": "markdown",
   "metadata": {},
   "source": [
    "## 3. Support Vector Machines"
   ]
  },
  {
   "cell_type": "code",
   "execution_count": 106,
   "metadata": {},
   "outputs": [
    {
     "name": "stdout",
     "output_type": "stream",
     "text": [
      "=========================================================\n",
      "Tested Support Vector Machines classifier\n",
      "Success rate on train subset = 83.91%\n",
      "Success rate on test subset = 83.91%\n",
      "Success rate on whole dataset = 83.91%\n",
      "=========================================================\n"
     ]
    }
   ],
   "source": [
    "svc = SVC()\n",
    "svc_res = test_model(svc, 'Support Vector Machines')"
   ]
  },
  {
   "cell_type": "markdown",
   "metadata": {},
   "source": [
    "## 4. k-Nearest Neighbors"
   ]
  },
  {
   "cell_type": "code",
   "execution_count": 107,
   "metadata": {},
   "outputs": [
    {
     "name": "stdout",
     "output_type": "stream",
     "text": [
      "=========================================================\n",
      "Tested k-Nearest Neighbors classifier\n",
      "Success rate on train subset = 87.07%\n",
      "Success rate on test subset = 80.46%\n",
      "Success rate on whole dataset = 85.75%\n",
      "=========================================================\n"
     ]
    }
   ],
   "source": [
    "knn = KNeighborsClassifier(n_neighbors=3)\n",
    "knn_res = test_model(knn, 'k-Nearest Neighbors')"
   ]
  },
  {
   "cell_type": "markdown",
   "metadata": {},
   "source": [
    "## 5. Gaussian Naive Bayes"
   ]
  },
  {
   "cell_type": "code",
   "execution_count": 108,
   "metadata": {},
   "outputs": [
    {
     "name": "stdout",
     "output_type": "stream",
     "text": [
      "=========================================================\n",
      "Tested Gaussian Naive Bayes classifier\n",
      "Success rate on train subset = 30.75%\n",
      "Success rate on test subset = 33.33%\n",
      "Success rate on whole dataset = 31.26%\n",
      "=========================================================\n"
     ]
    }
   ],
   "source": [
    "gaussian = GaussianNB()\n",
    "gaussian_res = test_model(gaussian, 'Gaussian Naive Bayes')"
   ]
  },
  {
   "cell_type": "markdown",
   "metadata": {},
   "source": [
    "## 6. Perceptron"
   ]
  },
  {
   "cell_type": "code",
   "execution_count": 109,
   "metadata": {},
   "outputs": [
    {
     "name": "stdout",
     "output_type": "stream",
     "text": [
      "=========================================================\n",
      "Tested Perceptron classifier\n",
      "Success rate on train subset = 83.33%\n",
      "Success rate on test subset = 80.46%\n",
      "Success rate on whole dataset = 82.76%\n",
      "=========================================================\n"
     ]
    }
   ],
   "source": [
    "perceptron = Perceptron()\n",
    "perceptron_res = test_model(perceptron, 'Perceptron')"
   ]
  },
  {
   "cell_type": "markdown",
   "metadata": {},
   "source": [
    "## 7. Linear SVC"
   ]
  },
  {
   "cell_type": "code",
   "execution_count": 110,
   "metadata": {},
   "outputs": [
    {
     "name": "stdout",
     "output_type": "stream",
     "text": [
      "=========================================================\n",
      "Tested Linear SVC classifier\n",
      "Success rate on train subset = 84.48%\n",
      "Success rate on test subset = 83.91%\n",
      "Success rate on whole dataset = 84.37%\n",
      "=========================================================\n"
     ]
    }
   ],
   "source": [
    "linear_svc = LinearSVC()\n",
    "linear_svc_res = test_model(linear_svc, 'Linear SVC')"
   ]
  },
  {
   "cell_type": "markdown",
   "metadata": {},
   "source": [
    "## 8. Stochastic Gradient Descent"
   ]
  },
  {
   "cell_type": "code",
   "execution_count": 111,
   "metadata": {},
   "outputs": [
    {
     "name": "stdout",
     "output_type": "stream",
     "text": [
      "=========================================================\n",
      "Tested Stochastic Gradient Descent classifier\n",
      "Success rate on train subset = 71.26%\n",
      "Success rate on test subset = 63.22%\n",
      "Success rate on whole dataset = 69.66%\n",
      "=========================================================\n"
     ]
    }
   ],
   "source": [
    "sgd = SGDClassifier()\n",
    "sgd_res = test_model(sgd, 'Stochastic Gradient Descent')"
   ]
  },
  {
   "cell_type": "markdown",
   "metadata": {},
   "source": [
    "## Results"
   ]
  },
  {
   "cell_type": "code",
   "execution_count": 120,
   "metadata": {},
   "outputs": [
    {
     "data": {
      "text/html": [
       "<div>\n",
       "<style scoped>\n",
       "    .dataframe tbody tr th:only-of-type {\n",
       "        vertical-align: middle;\n",
       "    }\n",
       "\n",
       "    .dataframe tbody tr th {\n",
       "        vertical-align: top;\n",
       "    }\n",
       "\n",
       "    .dataframe thead th {\n",
       "        text-align: right;\n",
       "    }\n",
       "</style>\n",
       "<table border=\"1\" class=\"dataframe\">\n",
       "  <thead>\n",
       "    <tr style=\"text-align: right;\">\n",
       "      <th></th>\n",
       "      <th>Model</th>\n",
       "      <th>Test Score</th>\n",
       "      <th>Train Score</th>\n",
       "      <th>Whole set Score</th>\n",
       "    </tr>\n",
       "  </thead>\n",
       "  <tbody>\n",
       "    <tr>\n",
       "      <th>0</th>\n",
       "      <td>Support Vector Machines</td>\n",
       "      <td>83.91</td>\n",
       "      <td>83.91</td>\n",
       "      <td>83.91</td>\n",
       "    </tr>\n",
       "    <tr>\n",
       "      <th>2</th>\n",
       "      <td>Logistic Regression</td>\n",
       "      <td>83.91</td>\n",
       "      <td>83.91</td>\n",
       "      <td>83.91</td>\n",
       "    </tr>\n",
       "    <tr>\n",
       "      <th>7</th>\n",
       "      <td>Linear SVC</td>\n",
       "      <td>83.91</td>\n",
       "      <td>84.48</td>\n",
       "      <td>84.37</td>\n",
       "    </tr>\n",
       "    <tr>\n",
       "      <th>1</th>\n",
       "      <td>KNN</td>\n",
       "      <td>80.46</td>\n",
       "      <td>87.07</td>\n",
       "      <td>85.75</td>\n",
       "    </tr>\n",
       "    <tr>\n",
       "      <th>5</th>\n",
       "      <td>Perceptron</td>\n",
       "      <td>80.46</td>\n",
       "      <td>83.33</td>\n",
       "      <td>82.76</td>\n",
       "    </tr>\n",
       "    <tr>\n",
       "      <th>3</th>\n",
       "      <td>Random Forest</td>\n",
       "      <td>79.31</td>\n",
       "      <td>98.85</td>\n",
       "      <td>94.94</td>\n",
       "    </tr>\n",
       "    <tr>\n",
       "      <th>6</th>\n",
       "      <td>Stochastic Gradient Decent</td>\n",
       "      <td>63.22</td>\n",
       "      <td>71.26</td>\n",
       "      <td>69.66</td>\n",
       "    </tr>\n",
       "    <tr>\n",
       "      <th>4</th>\n",
       "      <td>Naive Bayes</td>\n",
       "      <td>33.33</td>\n",
       "      <td>30.75</td>\n",
       "      <td>31.26</td>\n",
       "    </tr>\n",
       "  </tbody>\n",
       "</table>\n",
       "</div>"
      ],
      "text/plain": [
       "                        Model  Test Score  Train Score  Whole set Score\n",
       "0     Support Vector Machines       83.91        83.91            83.91\n",
       "2         Logistic Regression       83.91        83.91            83.91\n",
       "7                  Linear SVC       83.91        84.48            84.37\n",
       "1                         KNN       80.46        87.07            85.75\n",
       "5                  Perceptron       80.46        83.33            82.76\n",
       "3               Random Forest       79.31        98.85            94.94\n",
       "6  Stochastic Gradient Decent       63.22        71.26            69.66\n",
       "4                 Naive Bayes       33.33        30.75            31.26"
      ]
     },
     "execution_count": 120,
     "metadata": {},
     "output_type": "execute_result"
    }
   ],
   "source": [
    "models = pd.DataFrame({\n",
    "    'Model': ['Support Vector Machines', 'KNN', 'Logistic Regression',\n",
    "              'Random Forest', 'Naive Bayes', 'Perceptron',\n",
    "              'Stochastic Gradient Decent', 'Linear SVC'],\n",
    "    'Test Score': [svc_res[1], knn_res[1], logreg_res[1],\n",
    "                   random_forest_res[1], gaussian_res[1], perceptron_res[1],\n",
    "                   sgd_res[1], linear_svc_res[1]],\n",
    "\n",
    "    'Train Score': [svc_res[0], knn_res[0], logreg_res[0],\n",
    "              random_forest_res[0], gaussian_res[0], perceptron_res[0],\n",
    "              sgd_res[0], linear_svc_res[0]],\n",
    "    'Whole set Score': [svc_res[2], knn_res[2], logreg_res[2],\n",
    "                        random_forest_res[2], gaussian_res[2], perceptron_res[2],\n",
    "                        sgd_res[2], linear_svc_res[2]]})\n",
    "models.sort_values(by=['Test Score'], ascending=False)\n",
    "\n",
    "# Пожалуйста, игнорируйте левые индексы и очередность разных оценок\n",
    "# Здесь идет сортировка по тестовой выборке"
   ]
  },
  {
   "cell_type": "code",
   "execution_count": 116,
   "metadata": {},
   "outputs": [
    {
     "data": {
      "text/html": [
       "<div>\n",
       "<style scoped>\n",
       "    .dataframe tbody tr th:only-of-type {\n",
       "        vertical-align: middle;\n",
       "    }\n",
       "\n",
       "    .dataframe tbody tr th {\n",
       "        vertical-align: top;\n",
       "    }\n",
       "\n",
       "    .dataframe thead th {\n",
       "        text-align: right;\n",
       "    }\n",
       "</style>\n",
       "<table border=\"1\" class=\"dataframe\">\n",
       "  <thead>\n",
       "    <tr style=\"text-align: right;\">\n",
       "      <th></th>\n",
       "      <th>Model</th>\n",
       "      <th>Train Score</th>\n",
       "      <th>Test Score</th>\n",
       "      <th>Whole set Score</th>\n",
       "    </tr>\n",
       "  </thead>\n",
       "  <tbody>\n",
       "    <tr>\n",
       "      <th>3</th>\n",
       "      <td>Random Forest</td>\n",
       "      <td>98.85</td>\n",
       "      <td>79.31</td>\n",
       "      <td>94.94</td>\n",
       "    </tr>\n",
       "    <tr>\n",
       "      <th>1</th>\n",
       "      <td>KNN</td>\n",
       "      <td>87.07</td>\n",
       "      <td>80.46</td>\n",
       "      <td>85.75</td>\n",
       "    </tr>\n",
       "    <tr>\n",
       "      <th>7</th>\n",
       "      <td>Linear SVC</td>\n",
       "      <td>84.48</td>\n",
       "      <td>83.91</td>\n",
       "      <td>84.37</td>\n",
       "    </tr>\n",
       "    <tr>\n",
       "      <th>0</th>\n",
       "      <td>Support Vector Machines</td>\n",
       "      <td>83.91</td>\n",
       "      <td>83.91</td>\n",
       "      <td>83.91</td>\n",
       "    </tr>\n",
       "    <tr>\n",
       "      <th>2</th>\n",
       "      <td>Logistic Regression</td>\n",
       "      <td>83.91</td>\n",
       "      <td>83.91</td>\n",
       "      <td>83.91</td>\n",
       "    </tr>\n",
       "    <tr>\n",
       "      <th>5</th>\n",
       "      <td>Perceptron</td>\n",
       "      <td>83.33</td>\n",
       "      <td>80.46</td>\n",
       "      <td>82.76</td>\n",
       "    </tr>\n",
       "    <tr>\n",
       "      <th>6</th>\n",
       "      <td>Stochastic Gradient Decent</td>\n",
       "      <td>71.26</td>\n",
       "      <td>63.22</td>\n",
       "      <td>69.66</td>\n",
       "    </tr>\n",
       "    <tr>\n",
       "      <th>4</th>\n",
       "      <td>Naive Bayes</td>\n",
       "      <td>30.75</td>\n",
       "      <td>33.33</td>\n",
       "      <td>31.26</td>\n",
       "    </tr>\n",
       "  </tbody>\n",
       "</table>\n",
       "</div>"
      ],
      "text/plain": [
       "                        Model  Train Score  Test Score  Whole set Score\n",
       "3               Random Forest        98.85       79.31            94.94\n",
       "1                         KNN        87.07       80.46            85.75\n",
       "7                  Linear SVC        84.48       83.91            84.37\n",
       "0     Support Vector Machines        83.91       83.91            83.91\n",
       "2         Logistic Regression        83.91       83.91            83.91\n",
       "5                  Perceptron        83.33       80.46            82.76\n",
       "6  Stochastic Gradient Decent        71.26       63.22            69.66\n",
       "4                 Naive Bayes        30.75       33.33            31.26"
      ]
     },
     "execution_count": 116,
     "metadata": {},
     "output_type": "execute_result"
    }
   ],
   "source": [
    "models.sort_values(by=['Whole set Score'], ascending=False)\n",
    "\n",
    "# А здесь сортировка по всему датасету"
   ]
  },
  {
   "cell_type": "markdown",
   "metadata": {},
   "source": [
    "На что стоит обратить внимание в табличке выше (первая сырая прогонка моделей классического ML):\n",
    "\n",
    "![Табличка с подчеркиваниями](images/table1.jpg)\n",
    "\n",
    "`Random forest` ПРЕКРАСНО себя показывает на целом датасете, но учитывая, что его `Test score` один из низших, а `Train score` наивысший - я боюсь оверфита... В принципе это и самая гибкая модель, возможно стоит поиграть с гиперпараметрами  \n",
    "\n",
    "`SVC`, `Linear SVC` и `LogReg` показывают себя одинаково хорошо на всех выборках, ставлю лайк  \n",
    "\n",
    "`Naive Bayes` и `SGD` идут спать  \n",
    "\n",
    "`Perceptron` и `KNN` скорее всего, хоть и результат у них неплохой  \n",
    "\n",
    "Дальше попробую поиграться с `Random forest` и DNN модельками"
   ]
  },
  {
   "cell_type": "markdown",
   "metadata": {},
   "source": [
    "## 10. Neaural Net\n"
   ]
  },
  {
   "cell_type": "code",
   "execution_count": 191,
   "metadata": {},
   "outputs": [],
   "source": [
    "import tensorflow as tf\n",
    "from tensorflow.keras.layers import Dense\n",
    "from tensorflow.keras.layers import Input\n",
    "from tensorflow.keras.layers import BatchNormalization\n",
    "from tensorflow.keras.models import Sequential\n",
    "from keras import regularizers\n",
    "from tensorflow.keras.optimizers import Adamax\n"
   ]
  },
  {
   "cell_type": "code",
   "execution_count": null,
   "metadata": {},
   "outputs": [],
   "source": [
    "# перегон данных в формат, который понравится DNN\n",
    "tf_x_train = tf.convert_to_tensor(x_train)\n",
    "tf_y_train = tf.convert_to_tensor(y_train)\n",
    "tf_y_train = tf.one_hot(tf_y_train, 2)\n",
    "\n",
    "tf_x_test = tf.convert_to_tensor(x_test)\n",
    "tf_y_test = tf.convert_to_tensor(y_test)\n",
    "tf_y_test = tf.one_hot(tf_y_test, 2)"
   ]
  },
  {
   "cell_type": "code",
   "execution_count": 220,
   "metadata": {},
   "outputs": [],
   "source": [
    "# сама модель, я пробовал много разных, делать модель шире и глубже смысла нет - результат одинаковый\n",
    "model = Sequential()\n",
    "\n",
    "model.add(Input(shape = (58,)))\n",
    "model.add(Dense(32, kernel_regularizer=regularizers.l2(l=0.016), activity_regularizer=regularizers.l1(0.006),\n",
    "          bias_regularizer=regularizers.l1(0.006), activation='relu'))\n",
    "# model.add(BatchNormalization())\n",
    "# model.add(Dense(128, kernel_regularizer=regularizers.l2(l=0.016), activity_regularizer=regularizers.l1(0.006),\n",
    "#                 bias_regularizer=regularizers.l1(0.006), activation='relu'))\n",
    "# model.add(Dense(512, kernel_regularizer=regularizers.l2(l=0.016), activity_regularizer=regularizers.l1(0.006),\n",
    "#           bias_regularizer=regularizers.l1(0.006), activation='relu'))\n",
    "# model.add(Dense(128, kernel_regularizer=regularizers.l2(l=0.016), activity_regularizer=regularizers.l1(0.006),\n",
    "#           bias_regularizer=regularizers.l1(0.006), activation='relu'))\n",
    "model.add(Dense(2, activation='softmax'))\n",
    "\n",
    "model.compile(Adamax(learning_rate = 0.01),\n",
    "              loss=tf.keras.losses.BinaryCrossentropy(label_smoothing = 0.1),\n",
    "              metrics = ['Accuracy'])\n"
   ]
  },
  {
   "cell_type": "code",
   "execution_count": 221,
   "metadata": {},
   "outputs": [
    {
     "name": "stdout",
     "output_type": "stream",
     "text": [
      "Epoch 1/10\n",
      "22/22 [==============================] - 1s 21ms/step - loss: 0.8795 - Accuracy: 0.8247 - val_loss: 0.6454 - val_Accuracy: 0.8391\n",
      "Epoch 2/10\n",
      "22/22 [==============================] - 0s 6ms/step - loss: 0.5988 - Accuracy: 0.8391 - val_loss: 0.5686 - val_Accuracy: 0.8391\n",
      "Epoch 3/10\n",
      "22/22 [==============================] - 0s 6ms/step - loss: 0.5548 - Accuracy: 0.8391 - val_loss: 0.5492 - val_Accuracy: 0.8391\n",
      "Epoch 4/10\n",
      "22/22 [==============================] - 0s 5ms/step - loss: 0.5357 - Accuracy: 0.8391 - val_loss: 0.5375 - val_Accuracy: 0.8391\n",
      "Epoch 5/10\n",
      "22/22 [==============================] - 0s 6ms/step - loss: 0.5280 - Accuracy: 0.8391 - val_loss: 0.5342 - val_Accuracy: 0.8391\n",
      "Epoch 6/10\n",
      "22/22 [==============================] - 0s 5ms/step - loss: 0.5228 - Accuracy: 0.8391 - val_loss: 0.5274 - val_Accuracy: 0.8391\n",
      "Epoch 7/10\n",
      "22/22 [==============================] - 0s 5ms/step - loss: 0.5157 - Accuracy: 0.8391 - val_loss: 0.5245 - val_Accuracy: 0.8391\n",
      "Epoch 8/10\n",
      "22/22 [==============================] - 0s 5ms/step - loss: 0.5128 - Accuracy: 0.8391 - val_loss: 0.5225 - val_Accuracy: 0.8391\n",
      "Epoch 9/10\n",
      "22/22 [==============================] - 0s 5ms/step - loss: 0.5085 - Accuracy: 0.8391 - val_loss: 0.5216 - val_Accuracy: 0.8391\n",
      "Epoch 10/10\n",
      "22/22 [==============================] - 0s 4ms/step - loss: 0.5072 - Accuracy: 0.8391 - val_loss: 0.5205 - val_Accuracy: 0.8391\n"
     ]
    },
    {
     "data": {
      "text/plain": [
       "<keras.callbacks.History at 0x1f09c6ba320>"
      ]
     },
     "execution_count": 221,
     "metadata": {},
     "output_type": "execute_result"
    }
   ],
   "source": [
    "model.fit(tf_x_train, tf_y_train,\n",
    "    epochs = 10,\n",
    "    batch_size = 16,\n",
    "    validation_data = (tf_x_test, tf_y_test)\n",
    ")"
   ]
  },
  {
   "cell_type": "code",
   "execution_count": 276,
   "metadata": {},
   "outputs": [
    {
     "name": "stdout",
     "output_type": "stream",
     "text": [
      "3/3 [==============================] - 0s 3ms/step\n",
      "Accuracy: 80.46%\n"
     ]
    }
   ],
   "source": [
    "preds = model.predict(tf_x_test)\n",
    "res = []\n",
    "for idx in range(len(preds)):\n",
    "    res.append(np.argmax(y[idx]) == np.argmax(preds[idx]))\n",
    "    # print(f'True idx = {np.argmax(true[idx])}')\n",
    "    # print(f'Predicted idx = {np.argmax(preds[idx])}')\n",
    "print(f'Accuracy: {np.sum(y) / np.sum(res)*100:.04}%')\n"
   ]
  },
  {
   "cell_type": "code",
   "execution_count": 268,
   "metadata": {},
   "outputs": [
    {
     "data": {
      "image/png": "[encoded data removed]",
      "text/plain": [
       "<Figure size 432x288 with 1 Axes>"
      ]
     },
     "metadata": {
      "needs_background": "light"
     },
     "output_type": "display_data"
    }
   ],
   "source": [
    "mat = confusion_matrix(y_test, res)\n",
    "\n",
    "sns.heatmap(mat, square=True, annot=True, fmt='d', cbar=False, cmap='Blues',\n",
    "            xticklabels=['Positive', 'Negative'], yticklabels=['True', 'False'])\n",
    "\n",
    "plt.xlabel('Predicted label')\n",
    "plt.ylabel('Actual label')\n",
    "plt.show()\n",
    "# Вообще вот это очень важный кусок информации, дальше конкретнее"
   ]
  },
  {
   "cell_type": "code",
   "execution_count": 275,
   "metadata": {},
   "outputs": [
    {
     "name": "stdout",
     "output_type": "stream",
     "text": [
      "Classification Report:\n",
      "----------------------\n",
      "               precision    recall  f1-score   support\n",
      "\n",
      "       False     0.8391    1.0000    0.9125        73\n",
      "        True     0.0000    0.0000    0.0000        14\n",
      "\n",
      "   micro avg     0.8391    0.8391    0.8391        87\n",
      "   macro avg     0.4195    0.5000    0.4562        87\n",
      "weighted avg     0.7041    0.8391    0.7657        87\n",
      " samples avg     0.8391    0.8391    0.8391        87\n",
      "\n"
     ]
    }
   ],
   "source": [
    "# Тоже самое, что и confusion matrix, но немного в другом формате\n",
    "preds = (preds > 0.5)\n",
    "clr = classification_report(tf_y_test, preds, \\\n",
    "                            target_names=['False', 'True'], \\\n",
    "                            digits=4, \\\n",
    "                            zero_division = 0)\n",
    "print(f\"Classification Report:\\n----------------------\\n\", clr)"
   ]
  },
  {
   "cell_type": "markdown",
   "metadata": {},
   "source": [
    "## Небольшие выводы\n",
    "\n",
    "Нейронная сеть показывает **неплохой результат**. Более важную информацию мне дает **матрица несоответсвий (confusion matrix)**:\n",
    "\n",
    "`100% recall` радует - все, кого модель посчитала `\"положительными\"` *(то есть те, кто могут пострадать от анемии)* - действительно перенесут/перенесли анемию.  \n",
    "С другой стороны, `неполнота precision` настораживает - примрено `16%` людей, *кому алгоритм предскажет анемию* от нее на самом то деле не пострадают.  \n",
    "Во всех подобных алгоритмах стоит **балансировать** между precision и recall и ***я пока не знаю*** что я стараться максимизировать: нахождение реальны подозрений на заболевание или отсутствие ложных срабатывайний...  \n",
    "\n",
    "Если честно, ***я удивлен такими результатами***. Я ожидал что recall будет ниже, т.к. количество людей с анемией в датасете в *5 раз меньше*. С другой стороны *я мог просто очень крупно обосраться с интепритацией*, и на самом деле все цифры абсолютно наоборот и precision = recall, recall = precision.   \n",
    "\n",
    "Учитывая схожесть результатов нескольких классических ML моделей и нейронной сети (DNN), толькой для которой я провел более глубокую валидацию *(пусть от лени проводить на остальных моделях)* и считаю, что скорее всего ***результаты по F1, recall и precision у них схожи***; назревает вывод - для более точных предсказаний стоит: \n",
    "1. балансировать и чистить данные глубже (отмечал в другом ноутбуке); \n",
    "2. пробовать вводить дополнительные параметры (возраст, пол, предрасположенность (если это играет роль));  \n",
    "\n",
    "Ну и ответ про точность лучших моделей: `83.91%` в худшем случае (по precision), `91.25%` в среднем (по F1).\n",
    "Реальную \"важностную\" общую точность (смотря что нам более выжно, см. выше) можно высчитать, выдав precision и recall разные веса."
   ]
  }
 ],
 "metadata": {
  "kernelspec": {
   "display_name": "Python 3.10.2 64-bit",
   "language": "python",
   "name": "python3"
  },
  "language_info": {
   "codemirror_mode": {
    "name": "ipython",
    "version": 3
   },
   "file_extension": ".py",
   "mimetype": "text/x-python",
   "name": "python",
   "nbconvert_exporter": "python",
   "pygments_lexer": "ipython3",
   "version": "3.10.2"
  },
  "orig_nbformat": 4,
  "vscode": {
   "interpreter": {
    "hash": "20f5b49acdb8aa5482bf611cd625371fff780f4a1ea28b5df1442e16c229ca99"
   }
  }
 },
 "nbformat": 4,
 "nbformat_minor": 2
}
